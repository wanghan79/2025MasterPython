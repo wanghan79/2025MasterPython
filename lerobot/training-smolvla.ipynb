{
  "cells": [
    {
      "cell_type": "markdown",
      "metadata": {
        "id": "NQUk3Y0WwYZ4"
      },
      "source": [
        "# 🤗 x 🦾: Training SmolVLA with LeRobot Notebook\n",
        "\n",
        "Welcome to the **LeRobot SmolVLA training notebook**! This notebook provides a ready-to-run setup for training imitation learning policies using the [🤗 LeRobot](https://github.com/huggingface/lerobot) library.\n",
        "\n",
        "In this example, we train an `SmolVLA` policy using a dataset hosted on the [Hugging Face Hub](https://huggingface.co/), and optionally track training metrics with [Weights & Biases (wandb)](https://wandb.ai/).\n",
        "\n",
        "## ⚙️ Requirements\n",
        "- A Hugging Face dataset repo ID containing your training data (`--dataset.repo_id=YOUR_USERNAME/YOUR_DATASET`)\n",
        "- Optional: A [wandb](https://wandb.ai/) account if you want to enable training visualization\n",
        "- Recommended: GPU runtime (e.g., NVIDIA A100) for faster training\n",
        "\n",
        "## ⏱️ Expected Training Time\n",
        "Training with the `SmolVLA` policy for 20,000 steps typically takes **about 5 hours on an NVIDIA A100** GPU. On less powerful GPUs or CPUs, training may take significantly longer!\n",
        "\n",
        "## Example Output\n",
        "Model checkpoints, logs, and training plots will be saved to the specified `--output_dir`. If `wandb` is enabled, progress will also be visualized in your wandb project dashboard.\n"
      ]
    },
    {
      "cell_type": "markdown",
      "metadata": {
        "id": "MOJyX0CnwA5m"
      },
      "source": [
        "## Install conda\n",
        "This cell uses `condacolab` to bootstrap a full Conda environment inside Google Colab.\n"
      ]
    },
    {
      "cell_type": "code",
      "execution_count": 1,
      "metadata": {
        "colab": {
          "base_uri": "https://localhost:8080/"
        },
        "id": "QlKjL1X5t_zM",
        "outputId": "47403774-1b8e-4b14-be3e-c5d6970b5a29"
      },
      "outputs": [
        {
          "output_type": "stream",
          "name": "stdout",
          "text": [
            "✨🍰✨ Everything looks OK!\n"
          ]
        }
      ],
      "source": [
        "!pip install -q condacolab\n",
        "import condacolab\n",
        "condacolab.install()"
      ]
    },
    {
      "cell_type": "markdown",
      "metadata": {
        "id": "DxCc3CARwUjN"
      },
      "source": [
        "## Install LeRobot\n",
        "This cell clones the `lerobot` repository from Hugging Face, installs FFmpeg (version 7.1.1), and installs the package in editable mode.\n"
      ]
    },
    {
      "cell_type": "code",
      "execution_count": 2,
      "metadata": {
        "colab": {
          "base_uri": "https://localhost:8080/"
        },
        "id": "dgLu7QT5tUik",
        "outputId": "16536db2-fcd5-4b09-ef5d-414ff7158ba5"
      },
      "outputs": [
        {
          "output_type": "stream",
          "name": "stdout",
          "text": [
            "fatal: destination path 'lerobot' already exists and is not an empty directory.\n",
            "Channels:\n",
            " - conda-forge\n",
            "Platform: linux-64\n",
            "Collecting package metadata (repodata.json): - \b\b\\ \b\b| \b\b/ \b\b- \b\b\\ \b\b| \b\b/ \b\b- \b\bdone\n",
            "Solving environment: | \b\b/ \b\b- \b\b\\ \b\b| \b\b/ \b\b- \b\bdone\n",
            "\n",
            "\n",
            "==> WARNING: A newer version of conda exists. <==\n",
            "    current version: 24.11.3\n",
            "    latest version: 25.5.1\n",
            "\n",
            "Please update conda by running\n",
            "\n",
            "    $ conda update -n base -c conda-forge conda\n",
            "\n",
            "\n",
            "\n",
            "# All requested packages already installed.\n",
            "\n",
            "Obtaining file:///content/lerobot\n",
            "  Installing build dependencies ... \u001b[?25l\u001b[?25hdone\n",
            "  Checking if build backend supports build_editable ... \u001b[?25l\u001b[?25hdone\n",
            "  Getting requirements to build editable ... \u001b[?25l\u001b[?25hdone\n",
            "  Preparing editable metadata (pyproject.toml) ... \u001b[?25l\u001b[?25hdone\n",
            "Requirement already satisfied: av>=14.2.0 in /usr/local/lib/python3.11/site-packages (from lerobot==0.1.0) (15.0.0)\n",
            "Requirement already satisfied: cmake>=3.29.0.1 in /usr/local/lib/python3.11/site-packages (from lerobot==0.1.0) (4.0.3)\n",
            "Requirement already satisfied: datasets>=2.19.0 in /usr/local/lib/python3.11/site-packages (from lerobot==0.1.0) (3.6.0)\n",
            "Requirement already satisfied: deepdiff>=7.0.1 in /usr/local/lib/python3.11/site-packages (from lerobot==0.1.0) (8.5.0)\n",
            "Requirement already satisfied: diffusers>=0.27.2 in /usr/local/lib/python3.11/site-packages (from lerobot==0.1.0) (0.34.0)\n",
            "Requirement already satisfied: draccus==0.10.0 in /usr/local/lib/python3.11/site-packages (from lerobot==0.1.0) (0.10.0)\n",
            "Requirement already satisfied: einops>=0.8.0 in /usr/local/lib/python3.11/site-packages (from lerobot==0.1.0) (0.8.1)\n",
            "Requirement already satisfied: flask>=3.0.3 in /usr/local/lib/python3.11/site-packages (from lerobot==0.1.0) (3.1.1)\n",
            "Requirement already satisfied: gdown>=5.1.0 in /usr/local/lib/python3.11/site-packages (from lerobot==0.1.0) (5.2.0)\n",
            "Requirement already satisfied: gymnasium==0.29.1 in /usr/local/lib/python3.11/site-packages (from lerobot==0.1.0) (0.29.1)\n",
            "Requirement already satisfied: h5py>=3.10.0 in /usr/local/lib/python3.11/site-packages (from lerobot==0.1.0) (3.14.0)\n",
            "Requirement already satisfied: huggingface-hub>=0.27.1 in /usr/local/lib/python3.11/site-packages (from huggingface-hub[cli,hf-transfer]>=0.27.1; python_version < \"4.0\"->lerobot==0.1.0) (0.33.2)\n",
            "Requirement already satisfied: imageio>=2.34.0 in /usr/local/lib/python3.11/site-packages (from imageio[ffmpeg]>=2.34.0->lerobot==0.1.0) (2.37.0)\n",
            "Requirement already satisfied: jsonlines>=4.0.0 in /usr/local/lib/python3.11/site-packages (from lerobot==0.1.0) (4.0.0)\n",
            "Requirement already satisfied: numba>=0.59.0 in /usr/local/lib/python3.11/site-packages (from lerobot==0.1.0) (0.61.2)\n",
            "Requirement already satisfied: omegaconf>=2.3.0 in /usr/local/lib/python3.11/site-packages (from lerobot==0.1.0) (2.3.0)\n",
            "Requirement already satisfied: opencv-python-headless>=4.9.0 in /usr/local/lib/python3.11/site-packages (from lerobot==0.1.0) (4.11.0.86)\n",
            "Requirement already satisfied: packaging>=24.2 in /usr/local/lib/python3.11/site-packages (from lerobot==0.1.0) (24.2)\n",
            "Requirement already satisfied: pymunk<7.0.0,>=6.6.0 in /usr/local/lib/python3.11/site-packages (from lerobot==0.1.0) (6.11.1)\n",
            "Requirement already satisfied: pynput>=1.7.7 in /usr/local/lib/python3.11/site-packages (from lerobot==0.1.0) (1.8.1)\n",
            "Requirement already satisfied: pyserial>=3.5 in /usr/local/lib/python3.11/site-packages (from lerobot==0.1.0) (3.5)\n",
            "Requirement already satisfied: pyzmq>=26.2.1 in /usr/local/lib/python3.11/site-packages (from lerobot==0.1.0) (27.0.0)\n",
            "Requirement already satisfied: rerun-sdk>=0.21.0 in /usr/local/lib/python3.11/site-packages (from lerobot==0.1.0) (0.23.4)\n",
            "Requirement already satisfied: termcolor>=2.4.0 in /usr/local/lib/python3.11/site-packages (from lerobot==0.1.0) (3.1.0)\n",
            "Requirement already satisfied: torch>=2.2.1 in /usr/local/lib/python3.11/site-packages (from lerobot==0.1.0) (2.7.1)\n",
            "Requirement already satisfied: torchcodec>=0.2.1 in /usr/local/lib/python3.11/site-packages (from lerobot==0.1.0) (0.4.0)\n",
            "Requirement already satisfied: torchvision>=0.21.0 in /usr/local/lib/python3.11/site-packages (from lerobot==0.1.0) (0.22.1)\n",
            "Requirement already satisfied: wandb>=0.16.3 in /usr/local/lib/python3.11/site-packages (from lerobot==0.1.0) (0.21.0)\n",
            "Requirement already satisfied: zarr>=2.17.0 in /usr/local/lib/python3.11/site-packages (from lerobot==0.1.0) (3.0.10)\n",
            "Requirement already satisfied: mergedeep~=1.3 in /usr/local/lib/python3.11/site-packages (from draccus==0.10.0->lerobot==0.1.0) (1.3.4)\n",
            "Requirement already satisfied: pyyaml~=6.0 in /usr/local/lib/python3.11/site-packages (from draccus==0.10.0->lerobot==0.1.0) (6.0.2)\n",
            "Requirement already satisfied: pyyaml-include~=1.4 in /usr/local/lib/python3.11/site-packages (from draccus==0.10.0->lerobot==0.1.0) (1.4.1)\n",
            "Requirement already satisfied: toml~=0.10 in /usr/local/lib/python3.11/site-packages (from draccus==0.10.0->lerobot==0.1.0) (0.10.2)\n",
            "Requirement already satisfied: typing-inspect~=0.9.0 in /usr/local/lib/python3.11/site-packages (from draccus==0.10.0->lerobot==0.1.0) (0.9.0)\n",
            "Requirement already satisfied: numpy>=1.21.0 in /usr/local/lib/python3.11/site-packages (from gymnasium==0.29.1->lerobot==0.1.0) (2.2.6)\n",
            "Requirement already satisfied: cloudpickle>=1.2.0 in /usr/local/lib/python3.11/site-packages (from gymnasium==0.29.1->lerobot==0.1.0) (3.1.1)\n",
            "Requirement already satisfied: typing-extensions>=4.3.0 in /usr/local/lib/python3.11/site-packages (from gymnasium==0.29.1->lerobot==0.1.0) (4.14.0)\n",
            "Requirement already satisfied: farama-notifications>=0.0.1 in /usr/local/lib/python3.11/site-packages (from gymnasium==0.29.1->lerobot==0.1.0) (0.0.4)\n",
            "Requirement already satisfied: filelock in /usr/local/lib/python3.11/site-packages (from datasets>=2.19.0->lerobot==0.1.0) (3.18.0)\n",
            "Requirement already satisfied: pyarrow>=15.0.0 in /usr/local/lib/python3.11/site-packages (from datasets>=2.19.0->lerobot==0.1.0) (20.0.0)\n",
            "Requirement already satisfied: dill<0.3.9,>=0.3.0 in /usr/local/lib/python3.11/site-packages (from datasets>=2.19.0->lerobot==0.1.0) (0.3.8)\n",
            "Requirement already satisfied: pandas in /usr/local/lib/python3.11/site-packages (from datasets>=2.19.0->lerobot==0.1.0) (2.3.0)\n",
            "Requirement already satisfied: requests>=2.32.2 in /usr/local/lib/python3.11/site-packages (from datasets>=2.19.0->lerobot==0.1.0) (2.32.3)\n",
            "Requirement already satisfied: tqdm>=4.66.3 in /usr/local/lib/python3.11/site-packages (from datasets>=2.19.0->lerobot==0.1.0) (4.67.1)\n",
            "Requirement already satisfied: xxhash in /usr/local/lib/python3.11/site-packages (from datasets>=2.19.0->lerobot==0.1.0) (3.5.0)\n",
            "Requirement already satisfied: multiprocess<0.70.17 in /usr/local/lib/python3.11/site-packages (from datasets>=2.19.0->lerobot==0.1.0) (0.70.16)\n",
            "Requirement already satisfied: fsspec<=2025.3.0,>=2023.1.0 in /usr/local/lib/python3.11/site-packages (from fsspec[http]<=2025.3.0,>=2023.1.0->datasets>=2.19.0->lerobot==0.1.0) (2025.3.0)\n",
            "Requirement already satisfied: orderly-set<6,>=5.4.1 in /usr/local/lib/python3.11/site-packages (from deepdiff>=7.0.1->lerobot==0.1.0) (5.4.1)\n",
            "Requirement already satisfied: importlib_metadata in /usr/local/lib/python3.11/site-packages (from diffusers>=0.27.2->lerobot==0.1.0) (8.7.0)\n",
            "Requirement already satisfied: regex!=2019.12.17 in /usr/local/lib/python3.11/site-packages (from diffusers>=0.27.2->lerobot==0.1.0) (2024.11.6)\n",
            "Requirement already satisfied: safetensors>=0.3.1 in /usr/local/lib/python3.11/site-packages (from diffusers>=0.27.2->lerobot==0.1.0) (0.5.3)\n",
            "Requirement already satisfied: Pillow in /usr/local/lib/python3.11/site-packages (from diffusers>=0.27.2->lerobot==0.1.0) (11.3.0)\n",
            "Requirement already satisfied: blinker>=1.9.0 in /usr/local/lib/python3.11/site-packages (from flask>=3.0.3->lerobot==0.1.0) (1.9.0)\n",
            "Requirement already satisfied: click>=8.1.3 in /usr/local/lib/python3.11/site-packages (from flask>=3.0.3->lerobot==0.1.0) (8.2.1)\n",
            "Requirement already satisfied: itsdangerous>=2.2.0 in /usr/local/lib/python3.11/site-packages (from flask>=3.0.3->lerobot==0.1.0) (2.2.0)\n",
            "Requirement already satisfied: jinja2>=3.1.2 in /usr/local/lib/python3.11/site-packages (from flask>=3.0.3->lerobot==0.1.0) (3.1.6)\n",
            "Requirement already satisfied: markupsafe>=2.1.1 in /usr/local/lib/python3.11/site-packages (from flask>=3.0.3->lerobot==0.1.0) (3.0.2)\n",
            "Requirement already satisfied: werkzeug>=3.1.0 in /usr/local/lib/python3.11/site-packages (from flask>=3.0.3->lerobot==0.1.0) (3.1.3)\n",
            "Requirement already satisfied: beautifulsoup4 in /usr/local/lib/python3.11/site-packages (from gdown>=5.1.0->lerobot==0.1.0) (4.13.4)\n",
            "Requirement already satisfied: hf-xet<2.0.0,>=1.1.2 in /usr/local/lib/python3.11/site-packages (from huggingface-hub>=0.27.1->huggingface-hub[cli,hf-transfer]>=0.27.1; python_version < \"4.0\"->lerobot==0.1.0) (1.1.5)\n",
            "Requirement already satisfied: InquirerPy==0.3.4 in /usr/local/lib/python3.11/site-packages (from huggingface-hub[cli,hf-transfer]>=0.27.1; python_version < \"4.0\"->lerobot==0.1.0) (0.3.4)\n",
            "Requirement already satisfied: hf-transfer>=0.1.4 in /usr/local/lib/python3.11/site-packages (from huggingface-hub[cli,hf-transfer]>=0.27.1; python_version < \"4.0\"->lerobot==0.1.0) (0.1.9)\n",
            "Requirement already satisfied: pfzy<0.4.0,>=0.3.1 in /usr/local/lib/python3.11/site-packages (from InquirerPy==0.3.4->huggingface-hub[cli,hf-transfer]>=0.27.1; python_version < \"4.0\"->lerobot==0.1.0) (0.3.4)\n",
            "Requirement already satisfied: prompt-toolkit<4.0.0,>=3.0.1 in /usr/local/lib/python3.11/site-packages (from InquirerPy==0.3.4->huggingface-hub[cli,hf-transfer]>=0.27.1; python_version < \"4.0\"->lerobot==0.1.0) (3.0.51)\n",
            "Requirement already satisfied: imageio-ffmpeg in /usr/local/lib/python3.11/site-packages (from imageio[ffmpeg]>=2.34.0->lerobot==0.1.0) (0.6.0)\n",
            "Requirement already satisfied: psutil in /usr/local/lib/python3.11/site-packages (from imageio[ffmpeg]>=2.34.0->lerobot==0.1.0) (7.0.0)\n",
            "Requirement already satisfied: attrs>=19.2.0 in /usr/local/lib/python3.11/site-packages (from jsonlines>=4.0.0->lerobot==0.1.0) (25.3.0)\n",
            "Requirement already satisfied: llvmlite<0.45,>=0.44.0dev0 in /usr/local/lib/python3.11/site-packages (from numba>=0.59.0->lerobot==0.1.0) (0.44.0)\n",
            "Requirement already satisfied: antlr4-python3-runtime==4.9.* in /usr/local/lib/python3.11/site-packages (from omegaconf>=2.3.0->lerobot==0.1.0) (4.9.3)\n",
            "Requirement already satisfied: cffi>=1.17.1 in /usr/local/lib/python3.11/site-packages (from pymunk<7.0.0,>=6.6.0->lerobot==0.1.0) (1.17.1)\n",
            "Requirement already satisfied: six in /usr/local/lib/python3.11/site-packages (from pynput>=1.7.7->lerobot==0.1.0) (1.17.0)\n",
            "Requirement already satisfied: evdev>=1.3 in /usr/local/lib/python3.11/site-packages (from pynput>=1.7.7->lerobot==0.1.0) (1.9.2)\n",
            "Requirement already satisfied: python-xlib>=0.17 in /usr/local/lib/python3.11/site-packages (from pynput>=1.7.7->lerobot==0.1.0) (0.33)\n",
            "Requirement already satisfied: sympy>=1.13.3 in /usr/local/lib/python3.11/site-packages (from torch>=2.2.1->lerobot==0.1.0) (1.14.0)\n",
            "Requirement already satisfied: networkx in /usr/local/lib/python3.11/site-packages (from torch>=2.2.1->lerobot==0.1.0) (3.5)\n",
            "Requirement already satisfied: nvidia-cuda-nvrtc-cu12==12.6.77 in /usr/local/lib/python3.11/site-packages (from torch>=2.2.1->lerobot==0.1.0) (12.6.77)\n",
            "Requirement already satisfied: nvidia-cuda-runtime-cu12==12.6.77 in /usr/local/lib/python3.11/site-packages (from torch>=2.2.1->lerobot==0.1.0) (12.6.77)\n",
            "Requirement already satisfied: nvidia-cuda-cupti-cu12==12.6.80 in /usr/local/lib/python3.11/site-packages (from torch>=2.2.1->lerobot==0.1.0) (12.6.80)\n",
            "Requirement already satisfied: nvidia-cudnn-cu12==9.5.1.17 in /usr/local/lib/python3.11/site-packages (from torch>=2.2.1->lerobot==0.1.0) (9.5.1.17)\n",
            "Requirement already satisfied: nvidia-cublas-cu12==12.6.4.1 in /usr/local/lib/python3.11/site-packages (from torch>=2.2.1->lerobot==0.1.0) (12.6.4.1)\n",
            "Requirement already satisfied: nvidia-cufft-cu12==11.3.0.4 in /usr/local/lib/python3.11/site-packages (from torch>=2.2.1->lerobot==0.1.0) (11.3.0.4)\n",
            "Requirement already satisfied: nvidia-curand-cu12==10.3.7.77 in /usr/local/lib/python3.11/site-packages (from torch>=2.2.1->lerobot==0.1.0) (10.3.7.77)\n",
            "Requirement already satisfied: nvidia-cusolver-cu12==11.7.1.2 in /usr/local/lib/python3.11/site-packages (from torch>=2.2.1->lerobot==0.1.0) (11.7.1.2)\n",
            "Requirement already satisfied: nvidia-cusparse-cu12==12.5.4.2 in /usr/local/lib/python3.11/site-packages (from torch>=2.2.1->lerobot==0.1.0) (12.5.4.2)\n",
            "Requirement already satisfied: nvidia-cusparselt-cu12==0.6.3 in /usr/local/lib/python3.11/site-packages (from torch>=2.2.1->lerobot==0.1.0) (0.6.3)\n",
            "Requirement already satisfied: nvidia-nccl-cu12==2.26.2 in /usr/local/lib/python3.11/site-packages (from torch>=2.2.1->lerobot==0.1.0) (2.26.2)\n",
            "Requirement already satisfied: nvidia-nvtx-cu12==12.6.77 in /usr/local/lib/python3.11/site-packages (from torch>=2.2.1->lerobot==0.1.0) (12.6.77)\n",
            "Requirement already satisfied: nvidia-nvjitlink-cu12==12.6.85 in /usr/local/lib/python3.11/site-packages (from torch>=2.2.1->lerobot==0.1.0) (12.6.85)\n",
            "Requirement already satisfied: nvidia-cufile-cu12==1.11.1.6 in /usr/local/lib/python3.11/site-packages (from torch>=2.2.1->lerobot==0.1.0) (1.11.1.6)\n",
            "Requirement already satisfied: triton==3.3.1 in /usr/local/lib/python3.11/site-packages (from torch>=2.2.1->lerobot==0.1.0) (3.3.1)\n",
            "Requirement already satisfied: setuptools>=40.8.0 in /usr/local/lib/python3.11/site-packages (from triton==3.3.1->torch>=2.2.1->lerobot==0.1.0) (65.6.3)\n",
            "Requirement already satisfied: gitpython!=3.1.29,>=1.0.0 in /usr/local/lib/python3.11/site-packages (from wandb>=0.16.3->lerobot==0.1.0) (3.1.44)\n",
            "Requirement already satisfied: platformdirs in /usr/local/lib/python3.11/site-packages (from wandb>=0.16.3->lerobot==0.1.0) (4.3.6)\n",
            "Requirement already satisfied: protobuf!=4.21.0,!=5.28.0,<7,>=3.19.0 in /usr/local/lib/python3.11/site-packages (from wandb>=0.16.3->lerobot==0.1.0) (6.31.1)\n",
            "Requirement already satisfied: pydantic<3 in /usr/local/lib/python3.11/site-packages (from wandb>=0.16.3->lerobot==0.1.0) (2.11.7)\n",
            "Requirement already satisfied: sentry-sdk>=2.0.0 in /usr/local/lib/python3.11/site-packages (from wandb>=0.16.3->lerobot==0.1.0) (2.32.0)\n",
            "Requirement already satisfied: donfig>=0.8 in /usr/local/lib/python3.11/site-packages (from zarr>=2.17.0->lerobot==0.1.0) (0.8.1.post1)\n",
            "Requirement already satisfied: numcodecs>=0.14 in /usr/local/lib/python3.11/site-packages (from numcodecs[crc32c]>=0.14->zarr>=2.17.0->lerobot==0.1.0) (0.16.1)\n",
            "Requirement already satisfied: pycparser in /usr/local/lib/python3.11/site-packages (from cffi>=1.17.1->pymunk<7.0.0,>=6.6.0->lerobot==0.1.0) (2.22)\n",
            "Requirement already satisfied: aiohttp!=4.0.0a0,!=4.0.0a1 in /usr/local/lib/python3.11/site-packages (from fsspec[http]<=2025.3.0,>=2023.1.0->datasets>=2.19.0->lerobot==0.1.0) (3.12.13)\n",
            "Requirement already satisfied: gitdb<5,>=4.0.1 in /usr/local/lib/python3.11/site-packages (from gitpython!=3.1.29,>=1.0.0->wandb>=0.16.3->lerobot==0.1.0) (4.0.12)\n",
            "Requirement already satisfied: crc32c>=2.7 in /usr/local/lib/python3.11/site-packages (from numcodecs[crc32c]>=0.14->zarr>=2.17.0->lerobot==0.1.0) (2.7.1)\n",
            "Requirement already satisfied: annotated-types>=0.6.0 in /usr/local/lib/python3.11/site-packages (from pydantic<3->wandb>=0.16.3->lerobot==0.1.0) (0.7.0)\n",
            "Requirement already satisfied: pydantic-core==2.33.2 in /usr/local/lib/python3.11/site-packages (from pydantic<3->wandb>=0.16.3->lerobot==0.1.0) (2.33.2)\n",
            "Requirement already satisfied: typing-inspection>=0.4.0 in /usr/local/lib/python3.11/site-packages (from pydantic<3->wandb>=0.16.3->lerobot==0.1.0) (0.4.1)\n",
            "Requirement already satisfied: charset_normalizer<4,>=2 in /usr/local/lib/python3.11/site-packages (from requests>=2.32.2->datasets>=2.19.0->lerobot==0.1.0) (3.4.1)\n",
            "Requirement already satisfied: idna<4,>=2.5 in /usr/local/lib/python3.11/site-packages (from requests>=2.32.2->datasets>=2.19.0->lerobot==0.1.0) (3.10)\n",
            "Requirement already satisfied: urllib3<3,>=1.21.1 in /usr/local/lib/python3.11/site-packages (from requests>=2.32.2->datasets>=2.19.0->lerobot==0.1.0) (2.3.0)\n",
            "Requirement already satisfied: certifi>=2017.4.17 in /usr/local/lib/python3.11/site-packages (from requests>=2.32.2->datasets>=2.19.0->lerobot==0.1.0) (2025.6.15)\n",
            "Requirement already satisfied: mpmath<1.4,>=1.1.0 in /usr/local/lib/python3.11/site-packages (from sympy>=1.13.3->torch>=2.2.1->lerobot==0.1.0) (1.3.0)\n",
            "Requirement already satisfied: mypy-extensions>=0.3.0 in /usr/local/lib/python3.11/site-packages (from typing-inspect~=0.9.0->draccus==0.10.0->lerobot==0.1.0) (1.1.0)\n",
            "Requirement already satisfied: soupsieve>1.2 in /usr/local/lib/python3.11/site-packages (from beautifulsoup4->gdown>=5.1.0->lerobot==0.1.0) (2.7)\n",
            "Requirement already satisfied: zipp>=3.20 in /usr/local/lib/python3.11/site-packages (from importlib_metadata->diffusers>=0.27.2->lerobot==0.1.0) (3.23.0)\n",
            "Requirement already satisfied: python-dateutil>=2.8.2 in /usr/local/lib/python3.11/site-packages (from pandas->datasets>=2.19.0->lerobot==0.1.0) (2.9.0.post0)\n",
            "Requirement already satisfied: pytz>=2020.1 in /usr/local/lib/python3.11/site-packages (from pandas->datasets>=2.19.0->lerobot==0.1.0) (2025.2)\n",
            "Requirement already satisfied: tzdata>=2022.7 in /usr/local/lib/python3.11/site-packages (from pandas->datasets>=2.19.0->lerobot==0.1.0) (2025.2)\n",
            "Requirement already satisfied: PySocks!=1.5.7,>=1.5.6 in /usr/local/lib/python3.11/site-packages (from requests[socks]->gdown>=5.1.0->lerobot==0.1.0) (1.7.1)\n",
            "Requirement already satisfied: aiohappyeyeballs>=2.5.0 in /usr/local/lib/python3.11/site-packages (from aiohttp!=4.0.0a0,!=4.0.0a1->fsspec[http]<=2025.3.0,>=2023.1.0->datasets>=2.19.0->lerobot==0.1.0) (2.6.1)\n",
            "Requirement already satisfied: aiosignal>=1.1.2 in /usr/local/lib/python3.11/site-packages (from aiohttp!=4.0.0a0,!=4.0.0a1->fsspec[http]<=2025.3.0,>=2023.1.0->datasets>=2.19.0->lerobot==0.1.0) (1.4.0)\n",
            "Requirement already satisfied: frozenlist>=1.1.1 in /usr/local/lib/python3.11/site-packages (from aiohttp!=4.0.0a0,!=4.0.0a1->fsspec[http]<=2025.3.0,>=2023.1.0->datasets>=2.19.0->lerobot==0.1.0) (1.7.0)\n",
            "Requirement already satisfied: multidict<7.0,>=4.5 in /usr/local/lib/python3.11/site-packages (from aiohttp!=4.0.0a0,!=4.0.0a1->fsspec[http]<=2025.3.0,>=2023.1.0->datasets>=2.19.0->lerobot==0.1.0) (6.6.3)\n",
            "Requirement already satisfied: propcache>=0.2.0 in /usr/local/lib/python3.11/site-packages (from aiohttp!=4.0.0a0,!=4.0.0a1->fsspec[http]<=2025.3.0,>=2023.1.0->datasets>=2.19.0->lerobot==0.1.0) (0.3.2)\n",
            "Requirement already satisfied: yarl<2.0,>=1.17.0 in /usr/local/lib/python3.11/site-packages (from aiohttp!=4.0.0a0,!=4.0.0a1->fsspec[http]<=2025.3.0,>=2023.1.0->datasets>=2.19.0->lerobot==0.1.0) (1.20.1)\n",
            "Requirement already satisfied: smmap<6,>=3.0.1 in /usr/local/lib/python3.11/site-packages (from gitdb<5,>=4.0.1->gitpython!=3.1.29,>=1.0.0->wandb>=0.16.3->lerobot==0.1.0) (5.0.2)\n",
            "Requirement already satisfied: wcwidth in /usr/local/lib/python3.11/site-packages (from prompt-toolkit<4.0.0,>=3.0.1->InquirerPy==0.3.4->huggingface-hub[cli,hf-transfer]>=0.27.1; python_version < \"4.0\"->lerobot==0.1.0) (0.2.13)\n",
            "Building wheels for collected packages: lerobot\n",
            "  Building editable for lerobot (pyproject.toml) ... \u001b[?25l\u001b[?25hdone\n",
            "  Created wheel for lerobot: filename=lerobot-0.1.0-py3-none-any.whl size=15906 sha256=0faf56d9b0f3cca2b2f21bec02224ce0f55d4165faf065de0a3be01710d3c96a\n",
            "  Stored in directory: /tmp/pip-ephem-wheel-cache-auuf3j0s/wheels/15/0d/02/b9c6ff1c78574dee99101ad231194b3425eb4cd784ce8c8338\n",
            "Successfully built lerobot\n",
            "Installing collected packages: lerobot\n",
            "  Attempting uninstall: lerobot\n",
            "    Found existing installation: lerobot 0.1.0\n",
            "    Uninstalling lerobot-0.1.0:\n",
            "      Successfully uninstalled lerobot-0.1.0\n",
            "Successfully installed lerobot-0.1.0\n"
          ]
        }
      ],
      "source": [
        "!git clone https://github.com/huggingface/lerobot.git\n",
        "!conda install ffmpeg=7.1.1 -c conda-forge\n",
        "!cd lerobot && pip install -e ."
      ]
    },
    {
      "cell_type": "markdown",
      "metadata": {
        "id": "Q8Sn2wG4wldo"
      },
      "source": [
        "## Weights & Biases login\n",
        "This cell logs you into Weights & Biases (wandb) to enable experiment tracking and logging."
      ]
    },
    {
      "cell_type": "code",
      "execution_count": 3,
      "metadata": {
        "colab": {
          "base_uri": "https://localhost:8080/"
        },
        "id": "PolVM_movEvp",
        "outputId": "86c3c9a3-5998-4a91-fba3-8f99c6b3aff7"
      },
      "outputs": [
        {
          "output_type": "stream",
          "name": "stdout",
          "text": [
            "\u001b[34m\u001b[1mwandb\u001b[0m: Logging into wandb.ai. (Learn how to deploy a W&B server locally: https://wandb.me/wandb-server)\n",
            "\u001b[34m\u001b[1mwandb\u001b[0m: You can find your API key in your browser here: https://wandb.ai/authorize?ref=models\n",
            "\u001b[34m\u001b[1mwandb\u001b[0m: Paste an API key from your profile and hit enter, or press ctrl+c to quit: \n",
            "\u001b[34m\u001b[1mwandb\u001b[0m: No netrc file found, creating one.\n",
            "\u001b[34m\u001b[1mwandb\u001b[0m: Appending key for api.wandb.ai to your netrc file: /root/.netrc\n",
            "\u001b[34m\u001b[1mwandb\u001b[0m: Currently logged in as: \u001b[33mdong1771644\u001b[0m (\u001b[33mdong1771644-\u001b[0m) to \u001b[32mhttps://api.wandb.ai\u001b[0m. Use \u001b[1m`wandb login --relogin`\u001b[0m to force relogin\n"
          ]
        }
      ],
      "source": [
        "!wandb login"
      ]
    },
    {
      "cell_type": "markdown",
      "metadata": {
        "id": "yL5ETxCVSvoC"
      },
      "source": [
        "## Install SmolVLA dependencies"
      ]
    },
    {
      "cell_type": "code",
      "execution_count": 4,
      "metadata": {
        "id": "LuauK1ReSvoC",
        "outputId": "c431a8bb-7d2d-4bba-fc87-ffbe902dde6e",
        "colab": {
          "base_uri": "https://localhost:8080/"
        }
      },
      "outputs": [
        {
          "output_type": "stream",
          "name": "stdout",
          "text": [
            "Obtaining file:///content/lerobot\n",
            "  Installing build dependencies ... \u001b[?25l\u001b[?25hdone\n",
            "  Checking if build backend supports build_editable ... \u001b[?25l\u001b[?25hdone\n",
            "  Getting requirements to build editable ... \u001b[?25l\u001b[?25hdone\n",
            "  Preparing editable metadata (pyproject.toml) ... \u001b[?25l\u001b[?25hdone\n",
            "Requirement already satisfied: av>=14.2.0 in /usr/local/lib/python3.11/site-packages (from lerobot==0.1.0) (15.0.0)\n",
            "Requirement already satisfied: cmake>=3.29.0.1 in /usr/local/lib/python3.11/site-packages (from lerobot==0.1.0) (4.0.3)\n",
            "Requirement already satisfied: datasets>=2.19.0 in /usr/local/lib/python3.11/site-packages (from lerobot==0.1.0) (3.6.0)\n",
            "Requirement already satisfied: deepdiff>=7.0.1 in /usr/local/lib/python3.11/site-packages (from lerobot==0.1.0) (8.5.0)\n",
            "Requirement already satisfied: diffusers>=0.27.2 in /usr/local/lib/python3.11/site-packages (from lerobot==0.1.0) (0.34.0)\n",
            "Requirement already satisfied: draccus==0.10.0 in /usr/local/lib/python3.11/site-packages (from lerobot==0.1.0) (0.10.0)\n",
            "Requirement already satisfied: einops>=0.8.0 in /usr/local/lib/python3.11/site-packages (from lerobot==0.1.0) (0.8.1)\n",
            "Requirement already satisfied: flask>=3.0.3 in /usr/local/lib/python3.11/site-packages (from lerobot==0.1.0) (3.1.1)\n",
            "Requirement already satisfied: gdown>=5.1.0 in /usr/local/lib/python3.11/site-packages (from lerobot==0.1.0) (5.2.0)\n",
            "Requirement already satisfied: gymnasium==0.29.1 in /usr/local/lib/python3.11/site-packages (from lerobot==0.1.0) (0.29.1)\n",
            "Requirement already satisfied: h5py>=3.10.0 in /usr/local/lib/python3.11/site-packages (from lerobot==0.1.0) (3.14.0)\n",
            "Requirement already satisfied: huggingface-hub>=0.27.1 in /usr/local/lib/python3.11/site-packages (from huggingface-hub[cli,hf-transfer]>=0.27.1; python_version < \"4.0\"->lerobot==0.1.0) (0.33.2)\n",
            "Requirement already satisfied: imageio>=2.34.0 in /usr/local/lib/python3.11/site-packages (from imageio[ffmpeg]>=2.34.0->lerobot==0.1.0) (2.37.0)\n",
            "Requirement already satisfied: jsonlines>=4.0.0 in /usr/local/lib/python3.11/site-packages (from lerobot==0.1.0) (4.0.0)\n",
            "Requirement already satisfied: numba>=0.59.0 in /usr/local/lib/python3.11/site-packages (from lerobot==0.1.0) (0.61.2)\n",
            "Requirement already satisfied: omegaconf>=2.3.0 in /usr/local/lib/python3.11/site-packages (from lerobot==0.1.0) (2.3.0)\n",
            "Requirement already satisfied: opencv-python-headless>=4.9.0 in /usr/local/lib/python3.11/site-packages (from lerobot==0.1.0) (4.11.0.86)\n",
            "Requirement already satisfied: packaging>=24.2 in /usr/local/lib/python3.11/site-packages (from lerobot==0.1.0) (24.2)\n",
            "Requirement already satisfied: pymunk<7.0.0,>=6.6.0 in /usr/local/lib/python3.11/site-packages (from lerobot==0.1.0) (6.11.1)\n",
            "Requirement already satisfied: pynput>=1.7.7 in /usr/local/lib/python3.11/site-packages (from lerobot==0.1.0) (1.8.1)\n",
            "Requirement already satisfied: pyserial>=3.5 in /usr/local/lib/python3.11/site-packages (from lerobot==0.1.0) (3.5)\n",
            "Requirement already satisfied: pyzmq>=26.2.1 in /usr/local/lib/python3.11/site-packages (from lerobot==0.1.0) (27.0.0)\n",
            "Requirement already satisfied: rerun-sdk>=0.21.0 in /usr/local/lib/python3.11/site-packages (from lerobot==0.1.0) (0.23.4)\n",
            "Requirement already satisfied: termcolor>=2.4.0 in /usr/local/lib/python3.11/site-packages (from lerobot==0.1.0) (3.1.0)\n",
            "Requirement already satisfied: torch>=2.2.1 in /usr/local/lib/python3.11/site-packages (from lerobot==0.1.0) (2.7.1)\n",
            "Requirement already satisfied: torchcodec>=0.2.1 in /usr/local/lib/python3.11/site-packages (from lerobot==0.1.0) (0.4.0)\n",
            "Requirement already satisfied: torchvision>=0.21.0 in /usr/local/lib/python3.11/site-packages (from lerobot==0.1.0) (0.22.1)\n",
            "Requirement already satisfied: wandb>=0.16.3 in /usr/local/lib/python3.11/site-packages (from lerobot==0.1.0) (0.21.0)\n",
            "Requirement already satisfied: zarr>=2.17.0 in /usr/local/lib/python3.11/site-packages (from lerobot==0.1.0) (3.0.10)\n",
            "Requirement already satisfied: mergedeep~=1.3 in /usr/local/lib/python3.11/site-packages (from draccus==0.10.0->lerobot==0.1.0) (1.3.4)\n",
            "Requirement already satisfied: pyyaml~=6.0 in /usr/local/lib/python3.11/site-packages (from draccus==0.10.0->lerobot==0.1.0) (6.0.2)\n",
            "Requirement already satisfied: pyyaml-include~=1.4 in /usr/local/lib/python3.11/site-packages (from draccus==0.10.0->lerobot==0.1.0) (1.4.1)\n",
            "Requirement already satisfied: toml~=0.10 in /usr/local/lib/python3.11/site-packages (from draccus==0.10.0->lerobot==0.1.0) (0.10.2)\n",
            "Requirement already satisfied: typing-inspect~=0.9.0 in /usr/local/lib/python3.11/site-packages (from draccus==0.10.0->lerobot==0.1.0) (0.9.0)\n",
            "Requirement already satisfied: numpy>=1.21.0 in /usr/local/lib/python3.11/site-packages (from gymnasium==0.29.1->lerobot==0.1.0) (2.2.6)\n",
            "Requirement already satisfied: cloudpickle>=1.2.0 in /usr/local/lib/python3.11/site-packages (from gymnasium==0.29.1->lerobot==0.1.0) (3.1.1)\n",
            "Requirement already satisfied: typing-extensions>=4.3.0 in /usr/local/lib/python3.11/site-packages (from gymnasium==0.29.1->lerobot==0.1.0) (4.14.0)\n",
            "Requirement already satisfied: farama-notifications>=0.0.1 in /usr/local/lib/python3.11/site-packages (from gymnasium==0.29.1->lerobot==0.1.0) (0.0.4)\n",
            "Requirement already satisfied: accelerate>=1.7.0 in /usr/local/lib/python3.11/site-packages (from lerobot==0.1.0) (1.8.1)\n",
            "Requirement already satisfied: num2words>=0.5.14 in /usr/local/lib/python3.11/site-packages (from lerobot==0.1.0) (0.5.14)\n",
            "Requirement already satisfied: safetensors>=0.4.3 in /usr/local/lib/python3.11/site-packages (from lerobot==0.1.0) (0.5.3)\n",
            "Requirement already satisfied: transformers>=4.50.3 in /usr/local/lib/python3.11/site-packages (from lerobot==0.1.0) (4.53.0)\n",
            "Requirement already satisfied: psutil in /usr/local/lib/python3.11/site-packages (from accelerate>=1.7.0->lerobot==0.1.0) (7.0.0)\n",
            "Requirement already satisfied: filelock in /usr/local/lib/python3.11/site-packages (from datasets>=2.19.0->lerobot==0.1.0) (3.18.0)\n",
            "Requirement already satisfied: pyarrow>=15.0.0 in /usr/local/lib/python3.11/site-packages (from datasets>=2.19.0->lerobot==0.1.0) (20.0.0)\n",
            "Requirement already satisfied: dill<0.3.9,>=0.3.0 in /usr/local/lib/python3.11/site-packages (from datasets>=2.19.0->lerobot==0.1.0) (0.3.8)\n",
            "Requirement already satisfied: pandas in /usr/local/lib/python3.11/site-packages (from datasets>=2.19.0->lerobot==0.1.0) (2.3.0)\n",
            "Requirement already satisfied: requests>=2.32.2 in /usr/local/lib/python3.11/site-packages (from datasets>=2.19.0->lerobot==0.1.0) (2.32.3)\n",
            "Requirement already satisfied: tqdm>=4.66.3 in /usr/local/lib/python3.11/site-packages (from datasets>=2.19.0->lerobot==0.1.0) (4.67.1)\n",
            "Requirement already satisfied: xxhash in /usr/local/lib/python3.11/site-packages (from datasets>=2.19.0->lerobot==0.1.0) (3.5.0)\n",
            "Requirement already satisfied: multiprocess<0.70.17 in /usr/local/lib/python3.11/site-packages (from datasets>=2.19.0->lerobot==0.1.0) (0.70.16)\n",
            "Requirement already satisfied: fsspec<=2025.3.0,>=2023.1.0 in /usr/local/lib/python3.11/site-packages (from fsspec[http]<=2025.3.0,>=2023.1.0->datasets>=2.19.0->lerobot==0.1.0) (2025.3.0)\n",
            "Requirement already satisfied: orderly-set<6,>=5.4.1 in /usr/local/lib/python3.11/site-packages (from deepdiff>=7.0.1->lerobot==0.1.0) (5.4.1)\n",
            "Requirement already satisfied: importlib_metadata in /usr/local/lib/python3.11/site-packages (from diffusers>=0.27.2->lerobot==0.1.0) (8.7.0)\n",
            "Requirement already satisfied: regex!=2019.12.17 in /usr/local/lib/python3.11/site-packages (from diffusers>=0.27.2->lerobot==0.1.0) (2024.11.6)\n",
            "Requirement already satisfied: Pillow in /usr/local/lib/python3.11/site-packages (from diffusers>=0.27.2->lerobot==0.1.0) (11.3.0)\n",
            "Requirement already satisfied: blinker>=1.9.0 in /usr/local/lib/python3.11/site-packages (from flask>=3.0.3->lerobot==0.1.0) (1.9.0)\n",
            "Requirement already satisfied: click>=8.1.3 in /usr/local/lib/python3.11/site-packages (from flask>=3.0.3->lerobot==0.1.0) (8.2.1)\n",
            "Requirement already satisfied: itsdangerous>=2.2.0 in /usr/local/lib/python3.11/site-packages (from flask>=3.0.3->lerobot==0.1.0) (2.2.0)\n",
            "Requirement already satisfied: jinja2>=3.1.2 in /usr/local/lib/python3.11/site-packages (from flask>=3.0.3->lerobot==0.1.0) (3.1.6)\n",
            "Requirement already satisfied: markupsafe>=2.1.1 in /usr/local/lib/python3.11/site-packages (from flask>=3.0.3->lerobot==0.1.0) (3.0.2)\n",
            "Requirement already satisfied: werkzeug>=3.1.0 in /usr/local/lib/python3.11/site-packages (from flask>=3.0.3->lerobot==0.1.0) (3.1.3)\n",
            "Requirement already satisfied: beautifulsoup4 in /usr/local/lib/python3.11/site-packages (from gdown>=5.1.0->lerobot==0.1.0) (4.13.4)\n",
            "Requirement already satisfied: hf-xet<2.0.0,>=1.1.2 in /usr/local/lib/python3.11/site-packages (from huggingface-hub>=0.27.1->huggingface-hub[cli,hf-transfer]>=0.27.1; python_version < \"4.0\"->lerobot==0.1.0) (1.1.5)\n",
            "Requirement already satisfied: InquirerPy==0.3.4 in /usr/local/lib/python3.11/site-packages (from huggingface-hub[cli,hf-transfer]>=0.27.1; python_version < \"4.0\"->lerobot==0.1.0) (0.3.4)\n",
            "Requirement already satisfied: hf-transfer>=0.1.4 in /usr/local/lib/python3.11/site-packages (from huggingface-hub[cli,hf-transfer]>=0.27.1; python_version < \"4.0\"->lerobot==0.1.0) (0.1.9)\n",
            "Requirement already satisfied: pfzy<0.4.0,>=0.3.1 in /usr/local/lib/python3.11/site-packages (from InquirerPy==0.3.4->huggingface-hub[cli,hf-transfer]>=0.27.1; python_version < \"4.0\"->lerobot==0.1.0) (0.3.4)\n",
            "Requirement already satisfied: prompt-toolkit<4.0.0,>=3.0.1 in /usr/local/lib/python3.11/site-packages (from InquirerPy==0.3.4->huggingface-hub[cli,hf-transfer]>=0.27.1; python_version < \"4.0\"->lerobot==0.1.0) (3.0.51)\n",
            "Requirement already satisfied: imageio-ffmpeg in /usr/local/lib/python3.11/site-packages (from imageio[ffmpeg]>=2.34.0->lerobot==0.1.0) (0.6.0)\n",
            "Requirement already satisfied: attrs>=19.2.0 in /usr/local/lib/python3.11/site-packages (from jsonlines>=4.0.0->lerobot==0.1.0) (25.3.0)\n",
            "Requirement already satisfied: docopt>=0.6.2 in /usr/local/lib/python3.11/site-packages (from num2words>=0.5.14->lerobot==0.1.0) (0.6.2)\n",
            "Requirement already satisfied: llvmlite<0.45,>=0.44.0dev0 in /usr/local/lib/python3.11/site-packages (from numba>=0.59.0->lerobot==0.1.0) (0.44.0)\n",
            "Requirement already satisfied: antlr4-python3-runtime==4.9.* in /usr/local/lib/python3.11/site-packages (from omegaconf>=2.3.0->lerobot==0.1.0) (4.9.3)\n",
            "Requirement already satisfied: cffi>=1.17.1 in /usr/local/lib/python3.11/site-packages (from pymunk<7.0.0,>=6.6.0->lerobot==0.1.0) (1.17.1)\n",
            "Requirement already satisfied: six in /usr/local/lib/python3.11/site-packages (from pynput>=1.7.7->lerobot==0.1.0) (1.17.0)\n",
            "Requirement already satisfied: evdev>=1.3 in /usr/local/lib/python3.11/site-packages (from pynput>=1.7.7->lerobot==0.1.0) (1.9.2)\n",
            "Requirement already satisfied: python-xlib>=0.17 in /usr/local/lib/python3.11/site-packages (from pynput>=1.7.7->lerobot==0.1.0) (0.33)\n",
            "Requirement already satisfied: sympy>=1.13.3 in /usr/local/lib/python3.11/site-packages (from torch>=2.2.1->lerobot==0.1.0) (1.14.0)\n",
            "Requirement already satisfied: networkx in /usr/local/lib/python3.11/site-packages (from torch>=2.2.1->lerobot==0.1.0) (3.5)\n",
            "Requirement already satisfied: nvidia-cuda-nvrtc-cu12==12.6.77 in /usr/local/lib/python3.11/site-packages (from torch>=2.2.1->lerobot==0.1.0) (12.6.77)\n",
            "Requirement already satisfied: nvidia-cuda-runtime-cu12==12.6.77 in /usr/local/lib/python3.11/site-packages (from torch>=2.2.1->lerobot==0.1.0) (12.6.77)\n",
            "Requirement already satisfied: nvidia-cuda-cupti-cu12==12.6.80 in /usr/local/lib/python3.11/site-packages (from torch>=2.2.1->lerobot==0.1.0) (12.6.80)\n",
            "Requirement already satisfied: nvidia-cudnn-cu12==9.5.1.17 in /usr/local/lib/python3.11/site-packages (from torch>=2.2.1->lerobot==0.1.0) (9.5.1.17)\n",
            "Requirement already satisfied: nvidia-cublas-cu12==12.6.4.1 in /usr/local/lib/python3.11/site-packages (from torch>=2.2.1->lerobot==0.1.0) (12.6.4.1)\n",
            "Requirement already satisfied: nvidia-cufft-cu12==11.3.0.4 in /usr/local/lib/python3.11/site-packages (from torch>=2.2.1->lerobot==0.1.0) (11.3.0.4)\n",
            "Requirement already satisfied: nvidia-curand-cu12==10.3.7.77 in /usr/local/lib/python3.11/site-packages (from torch>=2.2.1->lerobot==0.1.0) (10.3.7.77)\n",
            "Requirement already satisfied: nvidia-cusolver-cu12==11.7.1.2 in /usr/local/lib/python3.11/site-packages (from torch>=2.2.1->lerobot==0.1.0) (11.7.1.2)\n",
            "Requirement already satisfied: nvidia-cusparse-cu12==12.5.4.2 in /usr/local/lib/python3.11/site-packages (from torch>=2.2.1->lerobot==0.1.0) (12.5.4.2)\n",
            "Requirement already satisfied: nvidia-cusparselt-cu12==0.6.3 in /usr/local/lib/python3.11/site-packages (from torch>=2.2.1->lerobot==0.1.0) (0.6.3)\n",
            "Requirement already satisfied: nvidia-nccl-cu12==2.26.2 in /usr/local/lib/python3.11/site-packages (from torch>=2.2.1->lerobot==0.1.0) (2.26.2)\n",
            "Requirement already satisfied: nvidia-nvtx-cu12==12.6.77 in /usr/local/lib/python3.11/site-packages (from torch>=2.2.1->lerobot==0.1.0) (12.6.77)\n",
            "Requirement already satisfied: nvidia-nvjitlink-cu12==12.6.85 in /usr/local/lib/python3.11/site-packages (from torch>=2.2.1->lerobot==0.1.0) (12.6.85)\n",
            "Requirement already satisfied: nvidia-cufile-cu12==1.11.1.6 in /usr/local/lib/python3.11/site-packages (from torch>=2.2.1->lerobot==0.1.0) (1.11.1.6)\n",
            "Requirement already satisfied: triton==3.3.1 in /usr/local/lib/python3.11/site-packages (from torch>=2.2.1->lerobot==0.1.0) (3.3.1)\n",
            "Requirement already satisfied: setuptools>=40.8.0 in /usr/local/lib/python3.11/site-packages (from triton==3.3.1->torch>=2.2.1->lerobot==0.1.0) (65.6.3)\n",
            "Requirement already satisfied: tokenizers<0.22,>=0.21 in /usr/local/lib/python3.11/site-packages (from transformers>=4.50.3->lerobot==0.1.0) (0.21.2)\n",
            "Requirement already satisfied: gitpython!=3.1.29,>=1.0.0 in /usr/local/lib/python3.11/site-packages (from wandb>=0.16.3->lerobot==0.1.0) (3.1.44)\n",
            "Requirement already satisfied: platformdirs in /usr/local/lib/python3.11/site-packages (from wandb>=0.16.3->lerobot==0.1.0) (4.3.6)\n",
            "Requirement already satisfied: protobuf!=4.21.0,!=5.28.0,<7,>=3.19.0 in /usr/local/lib/python3.11/site-packages (from wandb>=0.16.3->lerobot==0.1.0) (6.31.1)\n",
            "Requirement already satisfied: pydantic<3 in /usr/local/lib/python3.11/site-packages (from wandb>=0.16.3->lerobot==0.1.0) (2.11.7)\n",
            "Requirement already satisfied: sentry-sdk>=2.0.0 in /usr/local/lib/python3.11/site-packages (from wandb>=0.16.3->lerobot==0.1.0) (2.32.0)\n",
            "Requirement already satisfied: donfig>=0.8 in /usr/local/lib/python3.11/site-packages (from zarr>=2.17.0->lerobot==0.1.0) (0.8.1.post1)\n",
            "Requirement already satisfied: numcodecs>=0.14 in /usr/local/lib/python3.11/site-packages (from numcodecs[crc32c]>=0.14->zarr>=2.17.0->lerobot==0.1.0) (0.16.1)\n",
            "Requirement already satisfied: pycparser in /usr/local/lib/python3.11/site-packages (from cffi>=1.17.1->pymunk<7.0.0,>=6.6.0->lerobot==0.1.0) (2.22)\n",
            "Requirement already satisfied: aiohttp!=4.0.0a0,!=4.0.0a1 in /usr/local/lib/python3.11/site-packages (from fsspec[http]<=2025.3.0,>=2023.1.0->datasets>=2.19.0->lerobot==0.1.0) (3.12.13)\n",
            "Requirement already satisfied: gitdb<5,>=4.0.1 in /usr/local/lib/python3.11/site-packages (from gitpython!=3.1.29,>=1.0.0->wandb>=0.16.3->lerobot==0.1.0) (4.0.12)\n",
            "Requirement already satisfied: crc32c>=2.7 in /usr/local/lib/python3.11/site-packages (from numcodecs[crc32c]>=0.14->zarr>=2.17.0->lerobot==0.1.0) (2.7.1)\n",
            "Requirement already satisfied: annotated-types>=0.6.0 in /usr/local/lib/python3.11/site-packages (from pydantic<3->wandb>=0.16.3->lerobot==0.1.0) (0.7.0)\n",
            "Requirement already satisfied: pydantic-core==2.33.2 in /usr/local/lib/python3.11/site-packages (from pydantic<3->wandb>=0.16.3->lerobot==0.1.0) (2.33.2)\n",
            "Requirement already satisfied: typing-inspection>=0.4.0 in /usr/local/lib/python3.11/site-packages (from pydantic<3->wandb>=0.16.3->lerobot==0.1.0) (0.4.1)\n",
            "Requirement already satisfied: charset_normalizer<4,>=2 in /usr/local/lib/python3.11/site-packages (from requests>=2.32.2->datasets>=2.19.0->lerobot==0.1.0) (3.4.1)\n",
            "Requirement already satisfied: idna<4,>=2.5 in /usr/local/lib/python3.11/site-packages (from requests>=2.32.2->datasets>=2.19.0->lerobot==0.1.0) (3.10)\n",
            "Requirement already satisfied: urllib3<3,>=1.21.1 in /usr/local/lib/python3.11/site-packages (from requests>=2.32.2->datasets>=2.19.0->lerobot==0.1.0) (2.3.0)\n",
            "Requirement already satisfied: certifi>=2017.4.17 in /usr/local/lib/python3.11/site-packages (from requests>=2.32.2->datasets>=2.19.0->lerobot==0.1.0) (2025.6.15)\n",
            "Requirement already satisfied: mpmath<1.4,>=1.1.0 in /usr/local/lib/python3.11/site-packages (from sympy>=1.13.3->torch>=2.2.1->lerobot==0.1.0) (1.3.0)\n",
            "Requirement already satisfied: mypy-extensions>=0.3.0 in /usr/local/lib/python3.11/site-packages (from typing-inspect~=0.9.0->draccus==0.10.0->lerobot==0.1.0) (1.1.0)\n",
            "Requirement already satisfied: soupsieve>1.2 in /usr/local/lib/python3.11/site-packages (from beautifulsoup4->gdown>=5.1.0->lerobot==0.1.0) (2.7)\n",
            "Requirement already satisfied: zipp>=3.20 in /usr/local/lib/python3.11/site-packages (from importlib_metadata->diffusers>=0.27.2->lerobot==0.1.0) (3.23.0)\n",
            "Requirement already satisfied: python-dateutil>=2.8.2 in /usr/local/lib/python3.11/site-packages (from pandas->datasets>=2.19.0->lerobot==0.1.0) (2.9.0.post0)\n",
            "Requirement already satisfied: pytz>=2020.1 in /usr/local/lib/python3.11/site-packages (from pandas->datasets>=2.19.0->lerobot==0.1.0) (2025.2)\n",
            "Requirement already satisfied: tzdata>=2022.7 in /usr/local/lib/python3.11/site-packages (from pandas->datasets>=2.19.0->lerobot==0.1.0) (2025.2)\n",
            "Requirement already satisfied: PySocks!=1.5.7,>=1.5.6 in /usr/local/lib/python3.11/site-packages (from requests[socks]->gdown>=5.1.0->lerobot==0.1.0) (1.7.1)\n",
            "Requirement already satisfied: aiohappyeyeballs>=2.5.0 in /usr/local/lib/python3.11/site-packages (from aiohttp!=4.0.0a0,!=4.0.0a1->fsspec[http]<=2025.3.0,>=2023.1.0->datasets>=2.19.0->lerobot==0.1.0) (2.6.1)\n",
            "Requirement already satisfied: aiosignal>=1.1.2 in /usr/local/lib/python3.11/site-packages (from aiohttp!=4.0.0a0,!=4.0.0a1->fsspec[http]<=2025.3.0,>=2023.1.0->datasets>=2.19.0->lerobot==0.1.0) (1.4.0)\n",
            "Requirement already satisfied: frozenlist>=1.1.1 in /usr/local/lib/python3.11/site-packages (from aiohttp!=4.0.0a0,!=4.0.0a1->fsspec[http]<=2025.3.0,>=2023.1.0->datasets>=2.19.0->lerobot==0.1.0) (1.7.0)\n",
            "Requirement already satisfied: multidict<7.0,>=4.5 in /usr/local/lib/python3.11/site-packages (from aiohttp!=4.0.0a0,!=4.0.0a1->fsspec[http]<=2025.3.0,>=2023.1.0->datasets>=2.19.0->lerobot==0.1.0) (6.6.3)\n",
            "Requirement already satisfied: propcache>=0.2.0 in /usr/local/lib/python3.11/site-packages (from aiohttp!=4.0.0a0,!=4.0.0a1->fsspec[http]<=2025.3.0,>=2023.1.0->datasets>=2.19.0->lerobot==0.1.0) (0.3.2)\n",
            "Requirement already satisfied: yarl<2.0,>=1.17.0 in /usr/local/lib/python3.11/site-packages (from aiohttp!=4.0.0a0,!=4.0.0a1->fsspec[http]<=2025.3.0,>=2023.1.0->datasets>=2.19.0->lerobot==0.1.0) (1.20.1)\n",
            "Requirement already satisfied: smmap<6,>=3.0.1 in /usr/local/lib/python3.11/site-packages (from gitdb<5,>=4.0.1->gitpython!=3.1.29,>=1.0.0->wandb>=0.16.3->lerobot==0.1.0) (5.0.2)\n",
            "Requirement already satisfied: wcwidth in /usr/local/lib/python3.11/site-packages (from prompt-toolkit<4.0.0,>=3.0.1->InquirerPy==0.3.4->huggingface-hub[cli,hf-transfer]>=0.27.1; python_version < \"4.0\"->lerobot==0.1.0) (0.2.13)\n",
            "Building wheels for collected packages: lerobot\n",
            "  Building editable for lerobot (pyproject.toml) ... \u001b[?25l\u001b[?25hdone\n",
            "  Created wheel for lerobot: filename=lerobot-0.1.0-py3-none-any.whl size=15906 sha256=0faf56d9b0f3cca2b2f21bec02224ce0f55d4165faf065de0a3be01710d3c96a\n",
            "  Stored in directory: /tmp/pip-ephem-wheel-cache-ykc9gyb3/wheels/15/0d/02/b9c6ff1c78574dee99101ad231194b3425eb4cd784ce8c8338\n",
            "Successfully built lerobot\n",
            "Installing collected packages: lerobot\n",
            "  Attempting uninstall: lerobot\n",
            "    Found existing installation: lerobot 0.1.0\n",
            "    Uninstalling lerobot-0.1.0:\n",
            "      Successfully uninstalled lerobot-0.1.0\n",
            "Successfully installed lerobot-0.1.0\n"
          ]
        }
      ],
      "source": [
        "!cd lerobot && pip install -e \".[smolvla]\""
      ]
    },
    {
      "cell_type": "markdown",
      "metadata": {
        "id": "IkzTo4mNwxaC"
      },
      "source": [
        "## Start training SmolVLA with LeRobot\n",
        "\n",
        "This cell runs the `train.py` script from the `lerobot` library to train a robot control policy.  \n",
        "\n",
        "Make sure to adjust the following arguments to your setup:\n",
        "\n",
        "1. `--dataset.repo_id=YOUR_HF_USERNAME/YOUR_DATASET`:  \n",
        "   Replace this with the Hugging Face Hub repo ID where your dataset is stored, e.g., `pepijn223/il_gym0`.\n",
        "\n",
        "2. `--batch_size=64`: means the model processes 64 training samples in parallel before doing one gradient update. Reduce this number if you have a GPU with low memory.\n",
        "\n",
        "3. `--output_dir=outputs/train/...`:  \n",
        "   Directory where training logs and model checkpoints will be saved.\n",
        "\n",
        "4. `--job_name=...`:  \n",
        "   A name for this training job, used for logging and Weights & Biases.\n",
        "\n",
        "5. `--policy.device=cuda`:  \n",
        "   Use `cuda` if training on an NVIDIA GPU. Use `mps` for Apple Silicon, or `cpu` if no GPU is available.\n",
        "\n",
        "6. `--wandb.enable=true`:  \n",
        "   Enables Weights & Biases for visualizing training progress. You must be logged in via `wandb login` before running this."
      ]
    },
    {
      "cell_type": "code",
      "execution_count": 8,
      "metadata": {
        "id": "VsVOV8NXSvoC",
        "outputId": "36918905-5e28-43a0-a4a4-2d0c7ffff1f9",
        "colab": {
          "base_uri": "https://localhost:8080/"
        }
      },
      "outputs": [
        {
          "output_type": "stream",
          "name": "stdout",
          "text": [
            "python: can't open file '/content/lerobot/lerobot/scripts/train.py': [Errno 2] No such file or directory\n"
          ]
        }
      ],
      "source": [
        "!cd lerobot && python lerobot/scripts/train.py \\\n",
        "  --policy.path=lerobot/smolvla_base \\\n",
        "  --dataset.repo_id=${HF_USER}/mydataset \\\n",
        "  --batch_size=64 \\\n",
        "  --steps=20000 \\\n",
        "  --output_dir=outputs/train/my_smolvla \\\n",
        "  --job_name=my_smolvla_training \\\n",
        "  --policy.device=cuda \\\n",
        "  --wandb.enable=true"
      ]
    },
    {
      "cell_type": "code",
      "source": [
        "# 安装必要的依赖\n",
        "print(\"安装依赖中...\")\n",
        "!pip install -q transformers datasets accelerate bitsandbytes wandb huggingface_hub\n",
        "!pip install -q torchvision torchaudio  # 确保PyTorch完整安装\n",
        "\n",
        "# 克隆lerobot仓库\n",
        "print(\"克隆lerobot仓库...\")\n",
        "!git clone https://github.com/lerobot-ai/lerobot.git\n",
        "%cd lerobot\n",
        "!pip install -e .\n",
        "\n",
        "# 验证W&B登录状态\n",
        "import wandb\n",
        "try:\n",
        "    wandb.login()\n",
        "    print(\"W&B已登录\")\n",
        "except:\n",
        "    print(\"请先运行!wandb login并输入API密钥\")\n",
        "\n",
        "# 导入必要的库\n",
        "from huggingface_hub import HfApi\n",
        "import os\n",
        "\n",
        "# 配置训练参数\n",
        "# === 请根据你的需求修改以下参数 ===\n",
        "HF_DATASET_REPO = \"lerobot/smolvla_demo_dataset\"  # 替换为你的数据集ID\n",
        "BATCH_SIZE = 16  # 根据GPU内存调整，T4 GPU建议使用16-32\n",
        "OUTPUT_DIR = \"outputs/train/smolvla_robot_control\"\n",
        "JOB_NAME = \"smolvla_robot_training\"\n",
        "DEVICE = \"cuda\"  # 使用GPU训练\n",
        "USE_WANDB = True\n",
        "LEARNING_RATE = 5e-5\n",
        "TRAIN_EPOCHS = 5\n",
        "SAVE_STRATEGY = \"epoch\"\n",
        "PUSH_TO_HUB = False  # 是否推送到Hugging Face Hub\n",
        "\n",
        "# === 可选：如果你想使用Hugging Face Hub存储模型 ===\n",
        "HF_HUB_TOKEN = None  # 填入你的Hugging Face Token，例如：\"hf_xxxxxx\"\n",
        "if HF_HUB_TOKEN:\n",
        "    os.environ[\"HF_HOME\"] = \"/content/huggingface\"\n",
        "    os.environ[\"HF_TOKEN\"] = HF_HUB_TOKEN\n",
        "    api = HfApi(token=HF_HUB_TOKEN)\n",
        "    print(f\"已登录Hugging Face Hub: {api.whoami()['name']}\")\n",
        "\n",
        "# 构建训练命令\n",
        "train_cmd = f\"\"\"\n",
        "python -m lerobot.train \\\n",
        "  --dataset.repo_id={HF_DATASET_REPO} \\\n",
        "  --batch_size={BATCH_SIZE} \\\n",
        "  --output_dir={OUTPUT_DIR} \\\n",
        "  --job_name={JOB_NAME} \\\n",
        "  --policy.device={DEVICE} \\\n",
        "  --learning_rate={LEARNING_RATE} \\\n",
        "  --num_train_epochs={TRAIN_EPOCHS} \\\n",
        "  --save_strategy={SAVE_STRATEGY} \\\n",
        "  --logging_steps=10 \\\n",
        "\"\"\"\n",
        "\n",
        "# 添加W&B配置\n",
        "if USE_WANDB:\n",
        "    train_cmd += \"--wandb.enable=true \\\\\\n\"\n",
        "\n",
        "# 添加推送到Hub的配置\n",
        "if PUSH_TO_HUB and HF_HUB_TOKEN:\n",
        "    train_cmd += f\"--push_to_hub=true --hub_token={HF_HUB_TOKEN} \\\\\\n\"\n",
        "\n",
        "# 移除最后一个反斜杠和换行符\n",
        "train_cmd = train_cmd.rstrip(\"\\\\\\n\")\n",
        "\n",
        "# 开始训练\n",
        "print(\"准备开始训练...\")\n",
        "print(\"训练命令:\")\n",
        "print(train_cmd)\n",
        "\n",
        "# 确认数据集是否存在\n",
        "try:\n",
        "    if HF_DATASET_REPO != \"YOUR_HF_USERNAME/YOUR_DATASET\":\n",
        "        api = HfApi()\n",
        "        dataset_info = api.dataset_info(HF_DATASET_REPO)\n",
        "        print(f\"找到数据集: {dataset_info.id} ({dataset_info.sha})\")\n",
        "except Exception as e:\n",
        "    print(f\"警告: 数据集 {HF_DATASET_REPO} 不存在或无法访问\")\n",
        "    print(\"请确保替换为你自己的数据集ID，或使用公开数据集\")\n",
        "\n",
        "# 执行训练命令\n",
        "print(\"\\n开始训练SmolVLA模型...\")\n",
        "print(\"训练日志将实时显示，训练完成后模型会保存在指定输出目录\")\n",
        "!{train_cmd}"
      ],
      "metadata": {
        "id": "ACtULH6xUUda"
      },
      "execution_count": null,
      "outputs": []
    },
    {
      "cell_type": "markdown",
      "metadata": {
        "id": "x1cX93EOSvoC"
      },
      "source": [
        "## Login into Hugging Face Hub\n",
        "Now after training is done login into the Hugging Face hub and upload the last checkpoint"
      ]
    },
    {
      "cell_type": "code",
      "execution_count": null,
      "metadata": {
        "id": "8yu5khQGIHi6"
      },
      "outputs": [],
      "source": [
        "!huggingface-cli login"
      ]
    },
    {
      "cell_type": "code",
      "execution_count": null,
      "metadata": {
        "id": "zFMLGuVkH7UN"
      },
      "outputs": [],
      "source": [
        "!huggingface-cli upload ${HF_USER}/my_smolvla \\\n",
        "  /content/lerobot/outputs/train/my_smolvla/checkpoints/last/pretrained_model"
      ]
    }
  ],
  "metadata": {
    "accelerator": "GPU",
    "colab": {
      "gpuType": "A100",
      "machine_shape": "hm",
      "provenance": []
    },
    "kernelspec": {
      "display_name": "Python 3",
      "name": "python3"
    },
    "language_info": {
      "name": "python"
    }
  },
  "nbformat": 4,
  "nbformat_minor": 0
}