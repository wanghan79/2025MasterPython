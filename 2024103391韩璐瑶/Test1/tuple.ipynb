{
 "cells": [
  {
   "cell_type": "code",
   "execution_count": 1,
   "id": "a51d3c4c",
   "metadata": {},
   "outputs": [],
   "source": [
    "import time\n",
    "import random"
   ]
  },
  {
   "cell_type": "code",
   "execution_count": 2,
   "id": "a6d24a82",
   "metadata": {},
   "outputs": [],
   "source": [
    "# 创建 10000 * 10000 的 list\n",
    "size = 10000\n",
    "list_data = [[0] * size for _ in range(size)]\n",
    "tuple_data = tuple(tuple(0 for _ in range(size)) for _ in range(size))"
   ]
  },
  {
   "cell_type": "code",
   "execution_count": 3,
   "id": "f58561d7",
   "metadata": {},
   "outputs": [
    {
     "name": "stdout",
     "output_type": "stream",
     "text": [
      "List 修改 10000 次耗时: 0.039075 秒\n"
     ]
    }
   ],
   "source": [
    "# 1. 测试 list 修改性能\n",
    "start_time = time.time()\n",
    "for _ in range(10000):\n",
    "    i, j = random.randint(0, size - 1), random.randint(0, size - 1)\n",
    "    list_data[i][j] = random.randint(1, 100)\n",
    "end_time = time.time()\n",
    "print(f\"List 修改 10000 次耗时: {end_time - start_time:.6f} 秒\")"
   ]
  },
  {
   "cell_type": "code",
   "execution_count": 4,
   "id": "2a1771dc",
   "metadata": {},
   "outputs": [
    {
     "name": "stdout",
     "output_type": "stream",
     "text": [
      "Tuple 模拟修改 10000 次耗时: 3.641585 秒\n"
     ]
    }
   ],
   "source": [
    "# 2. 测试 tuple 模拟修改（创建新元组）\n",
    "start_time = time.time()\n",
    "for _ in range(10000):\n",
    "    i, j = random.randint(0, size - 1), random.randint(0, size - 1)\n",
    "    new_row = tuple_data[i][:j] + (random.randint(1, 100),) + tuple_data[i][j+1:]\n",
    "    tuple_data = tuple_data[:i] + (new_row,) + tuple_data[i+1:]\n",
    "end_time = time.time()\n",
    "print(f\"Tuple 模拟修改 10000 次耗时: {end_time - start_time:.6f} 秒\")"
   ]
  }
 ],
 "metadata": {
  "kernelspec": {
   "display_name": "pytorch",
   "language": "python",
   "name": "python3"
  },
  "language_info": {
   "codemirror_mode": {
    "name": "ipython",
    "version": 3
   },
   "file_extension": ".py",
   "mimetype": "text/x-python",
   "name": "python",
   "nbconvert_exporter": "python",
   "pygments_lexer": "ipython3",
   "version": "3.11.11"
  }
 },
 "nbformat": 4,
 "nbformat_minor": 5
}
